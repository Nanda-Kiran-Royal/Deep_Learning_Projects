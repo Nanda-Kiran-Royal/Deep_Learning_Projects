{
 "cells": [
  {
   "cell_type": "markdown",
   "id": "9d403f3a-7029-4f04-80a3-06a6f9b875f0",
   "metadata": {},
   "source": [
    "##"
   ]
  },
  {
   "cell_type": "code",
   "execution_count": 3,
   "id": "464fb306-3db6-41a6-b091-be4a9fc551c1",
   "metadata": {},
   "outputs": [
    {
     "name": "stdout",
     "output_type": "stream",
     "text": [
      "Requirement already satisfied: opencv-python in /Users/nanda/miniforge3/envs/env_tensor/lib/python3.8/site-packages (4.7.0.72)\n",
      "Requirement already satisfied: numpy>=1.21.0 in /Users/nanda/miniforge3/envs/env_tensor/lib/python3.8/site-packages (from opencv-python) (1.22.3)\n"
     ]
    }
   ],
   "source": [
    "! pip install opencv-python"
   ]
  },
  {
   "cell_type": "markdown",
   "id": "6c335db6-26fe-4b80-b04b-17d9878d6e2f",
   "metadata": {},
   "source": [
    "1.1 "
   ]
  },
  {
   "cell_type": "code",
   "execution_count": 1,
   "id": "0c0a4623-85fc-4949-8f61-4a7f11852709",
   "metadata": {},
   "outputs": [],
   "source": [
    "import pandas as pd\n",
    "import uuid "
   ]
  },
  {
   "cell_type": "code",
   "execution_count": null,
   "id": "6acf29e8-4df9-49e5-b29d-feec77fd9912",
   "metadata": {},
   "outputs": [],
   "source": []
  },
  {
   "cell_type": "code",
   "execution_count": null,
   "id": "8aee5cd1-1358-425d-b811-181dc56698cd",
   "metadata": {},
   "outputs": [],
   "source": [
    "g"
   ]
  }
 ],
 "metadata": {
  "kernelspec": {
   "display_name": "Python 3 (ipykernel)",
   "language": "python",
   "name": "python3"
  },
  "language_info": {
   "codemirror_mode": {
    "name": "ipython",
    "version": 3
   },
   "file_extension": ".py",
   "mimetype": "text/x-python",
   "name": "python",
   "nbconvert_exporter": "python",
   "pygments_lexer": "ipython3",
   "version": "3.8.16"
  }
 },
 "nbformat": 4,
 "nbformat_minor": 5
}
